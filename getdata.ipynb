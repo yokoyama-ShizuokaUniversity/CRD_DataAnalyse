{
 "cells": [
  {
   "cell_type": "code",
   "execution_count": 366,
   "id": "94d6d5e4",
   "metadata": {},
   "outputs": [],
   "source": [
    "import pandas as pd"
   ]
  },
  {
   "cell_type": "code",
   "execution_count": 367,
   "id": "a936ffc2",
   "metadata": {},
   "outputs": [
    {
     "data": {
      "text/html": [
       "<div>\n",
       "<style scoped>\n",
       "    .dataframe tbody tr th:only-of-type {\n",
       "        vertical-align: middle;\n",
       "    }\n",
       "\n",
       "    .dataframe tbody tr th {\n",
       "        vertical-align: top;\n",
       "    }\n",
       "\n",
       "    .dataframe thead th {\n",
       "        text-align: right;\n",
       "    }\n",
       "</style>\n",
       "<table border=\"1\" class=\"dataframe\">\n",
       "  <thead>\n",
       "    <tr style=\"text-align: right;\">\n",
       "      <th></th>\n",
       "      <th>0</th>\n",
       "      <th>1</th>\n",
       "      <th>2</th>\n",
       "      <th>3</th>\n",
       "      <th>4</th>\n",
       "      <th>5</th>\n",
       "      <th>6</th>\n",
       "      <th>7</th>\n",
       "      <th>8</th>\n",
       "    </tr>\n",
       "  </thead>\n",
       "  <tbody>\n",
       "    <tr>\n",
       "      <th>0</th>\n",
       "      <td>1</td>\n",
       "      <td>NaN</td>\n",
       "      <td>以下の「チェックするページを見る」ボタンを押して課題を実行してください</td>\n",
       "      <td>課題開始はこちらから→</td>\n",
       "      <td>http://18.176.100.68/room/room01?participant_l...</td>\n",
       "      <td>最後の画面で提示されたキーワードを入力後、下のボタンを押してください</td>\n",
       "      <td>NaN</td>\n",
       "      <td>A7K3B</td>\n",
       "      <td>1234268403</td>\n",
       "    </tr>\n",
       "    <tr>\n",
       "      <th>1</th>\n",
       "      <td>2</td>\n",
       "      <td>NaN</td>\n",
       "      <td>以下の「チェックするページを見る」ボタンを押して課題を実行してください</td>\n",
       "      <td>課題開始はこちらから→</td>\n",
       "      <td>http://18.176.100.68/room/room01?participant_l...</td>\n",
       "      <td>最後の画面で提示されたキーワードを入力後、下のボタンを押してください</td>\n",
       "      <td>NaN</td>\n",
       "      <td>A7K3B</td>\n",
       "      <td>1235779098</td>\n",
       "    </tr>\n",
       "    <tr>\n",
       "      <th>2</th>\n",
       "      <td>3</td>\n",
       "      <td>NaN</td>\n",
       "      <td>以下の「チェックするページを見る」ボタンを押して課題を実行してください</td>\n",
       "      <td>課題開始はこちらから→</td>\n",
       "      <td>http://18.176.100.68/room/room01?participant_l...</td>\n",
       "      <td>最後の画面で提示されたキーワードを入力後、下のボタンを押してください</td>\n",
       "      <td>NaN</td>\n",
       "      <td>A7K3B</td>\n",
       "      <td>1232483825</td>\n",
       "    </tr>\n",
       "    <tr>\n",
       "      <th>3</th>\n",
       "      <td>4</td>\n",
       "      <td>NaN</td>\n",
       "      <td>以下の「チェックするページを見る」ボタンを押して課題を実行してください</td>\n",
       "      <td>課題開始はこちらから→</td>\n",
       "      <td>http://18.176.100.68/room/room01?participant_l...</td>\n",
       "      <td>最後の画面で提示されたキーワードを入力後、下のボタンを押してください</td>\n",
       "      <td>NaN</td>\n",
       "      <td>A7K3B</td>\n",
       "      <td>1234979671</td>\n",
       "    </tr>\n",
       "    <tr>\n",
       "      <th>4</th>\n",
       "      <td>5</td>\n",
       "      <td>NaN</td>\n",
       "      <td>以下の「チェックするページを見る」ボタンを押して課題を実行してください</td>\n",
       "      <td>課題開始はこちらから→</td>\n",
       "      <td>http://18.176.100.68/room/room01?participant_l...</td>\n",
       "      <td>最後の画面で提示されたキーワードを入力後、下のボタンを押してください</td>\n",
       "      <td>NaN</td>\n",
       "      <td>A7K3B</td>\n",
       "      <td>1225026867</td>\n",
       "    </tr>\n",
       "    <tr>\n",
       "      <th>...</th>\n",
       "      <td>...</td>\n",
       "      <td>...</td>\n",
       "      <td>...</td>\n",
       "      <td>...</td>\n",
       "      <td>...</td>\n",
       "      <td>...</td>\n",
       "      <td>...</td>\n",
       "      <td>...</td>\n",
       "      <td>...</td>\n",
       "    </tr>\n",
       "    <tr>\n",
       "      <th>95</th>\n",
       "      <td>96</td>\n",
       "      <td>NaN</td>\n",
       "      <td>以下の「チェックするページを見る」ボタンを押して課題を実行してください</td>\n",
       "      <td>課題開始はこちらから→</td>\n",
       "      <td>http://18.176.100.68/room/room01?participant_l...</td>\n",
       "      <td>最後の画面で提示されたキーワードを入力後、下のボタンを押してください</td>\n",
       "      <td>NaN</td>\n",
       "      <td>A7K3B</td>\n",
       "      <td>1238318185</td>\n",
       "    </tr>\n",
       "    <tr>\n",
       "      <th>96</th>\n",
       "      <td>97</td>\n",
       "      <td>NaN</td>\n",
       "      <td>以下の「チェックするページを見る」ボタンを押して課題を実行してください</td>\n",
       "      <td>課題開始はこちらから→</td>\n",
       "      <td>http://18.176.100.68/room/room01?participant_l...</td>\n",
       "      <td>最後の画面で提示されたキーワードを入力後、下のボタンを押してください</td>\n",
       "      <td>NaN</td>\n",
       "      <td>A7K3B</td>\n",
       "      <td>1233436464</td>\n",
       "    </tr>\n",
       "    <tr>\n",
       "      <th>97</th>\n",
       "      <td>98</td>\n",
       "      <td>NaN</td>\n",
       "      <td>以下の「チェックするページを見る」ボタンを押して課題を実行してください</td>\n",
       "      <td>課題開始はこちらから→</td>\n",
       "      <td>http://18.176.100.68/room/room01?participant_l...</td>\n",
       "      <td>最後の画面で提示されたキーワードを入力後、下のボタンを押してください</td>\n",
       "      <td>NaN</td>\n",
       "      <td>A7K3B</td>\n",
       "      <td>1235935810</td>\n",
       "    </tr>\n",
       "    <tr>\n",
       "      <th>98</th>\n",
       "      <td>99</td>\n",
       "      <td>NaN</td>\n",
       "      <td>以下の「チェックするページを見る」ボタンを押して課題を実行してください</td>\n",
       "      <td>課題開始はこちらから→</td>\n",
       "      <td>http://18.176.100.68/room/room01?participant_l...</td>\n",
       "      <td>最後の画面で提示されたキーワードを入力後、下のボタンを押してください</td>\n",
       "      <td>NaN</td>\n",
       "      <td>A7K3B</td>\n",
       "      <td>1237551928</td>\n",
       "    </tr>\n",
       "    <tr>\n",
       "      <th>99</th>\n",
       "      <td>100</td>\n",
       "      <td>NaN</td>\n",
       "      <td>以下の「チェックするページを見る」ボタンを押して課題を実行してください</td>\n",
       "      <td>課題開始はこちらから→</td>\n",
       "      <td>http://18.176.100.68/room/room01?participant_l...</td>\n",
       "      <td>最後の画面で提示されたキーワードを入力後、下のボタンを押してください</td>\n",
       "      <td>NaN</td>\n",
       "      <td>A7K3B</td>\n",
       "      <td>1234532531</td>\n",
       "    </tr>\n",
       "  </tbody>\n",
       "</table>\n",
       "<p>100 rows × 9 columns</p>\n",
       "</div>"
      ],
      "text/plain": [
       "      0   1                                    2            3  \\\n",
       "0     1 NaN  以下の「チェックするページを見る」ボタンを押して課題を実行してください  課題開始はこちらから→   \n",
       "1     2 NaN  以下の「チェックするページを見る」ボタンを押して課題を実行してください  課題開始はこちらから→   \n",
       "2     3 NaN  以下の「チェックするページを見る」ボタンを押して課題を実行してください  課題開始はこちらから→   \n",
       "3     4 NaN  以下の「チェックするページを見る」ボタンを押して課題を実行してください  課題開始はこちらから→   \n",
       "4     5 NaN  以下の「チェックするページを見る」ボタンを押して課題を実行してください  課題開始はこちらから→   \n",
       "..  ...  ..                                  ...          ...   \n",
       "95   96 NaN  以下の「チェックするページを見る」ボタンを押して課題を実行してください  課題開始はこちらから→   \n",
       "96   97 NaN  以下の「チェックするページを見る」ボタンを押して課題を実行してください  課題開始はこちらから→   \n",
       "97   98 NaN  以下の「チェックするページを見る」ボタンを押して課題を実行してください  課題開始はこちらから→   \n",
       "98   99 NaN  以下の「チェックするページを見る」ボタンを押して課題を実行してください  課題開始はこちらから→   \n",
       "99  100 NaN  以下の「チェックするページを見る」ボタンを押して課題を実行してください  課題開始はこちらから→   \n",
       "\n",
       "                                                    4  \\\n",
       "0   http://18.176.100.68/room/room01?participant_l...   \n",
       "1   http://18.176.100.68/room/room01?participant_l...   \n",
       "2   http://18.176.100.68/room/room01?participant_l...   \n",
       "3   http://18.176.100.68/room/room01?participant_l...   \n",
       "4   http://18.176.100.68/room/room01?participant_l...   \n",
       "..                                                ...   \n",
       "95  http://18.176.100.68/room/room01?participant_l...   \n",
       "96  http://18.176.100.68/room/room01?participant_l...   \n",
       "97  http://18.176.100.68/room/room01?participant_l...   \n",
       "98  http://18.176.100.68/room/room01?participant_l...   \n",
       "99  http://18.176.100.68/room/room01?participant_l...   \n",
       "\n",
       "                                     5   6      7           8  \n",
       "0   最後の画面で提示されたキーワードを入力後、下のボタンを押してください NaN  A7K3B  1234268403  \n",
       "1   最後の画面で提示されたキーワードを入力後、下のボタンを押してください NaN  A7K3B  1235779098  \n",
       "2   最後の画面で提示されたキーワードを入力後、下のボタンを押してください NaN  A7K3B  1232483825  \n",
       "3   最後の画面で提示されたキーワードを入力後、下のボタンを押してください NaN  A7K3B  1234979671  \n",
       "4   最後の画面で提示されたキーワードを入力後、下のボタンを押してください NaN  A7K3B  1225026867  \n",
       "..                                 ...  ..    ...         ...  \n",
       "95  最後の画面で提示されたキーワードを入力後、下のボタンを押してください NaN  A7K3B  1238318185  \n",
       "96  最後の画面で提示されたキーワードを入力後、下のボタンを押してください NaN  A7K3B  1233436464  \n",
       "97  最後の画面で提示されたキーワードを入力後、下のボタンを押してください NaN  A7K3B  1235935810  \n",
       "98  最後の画面で提示されたキーワードを入力後、下のボタンを押してください NaN  A7K3B  1237551928  \n",
       "99  最後の画面で提示されたキーワードを入力後、下のボタンを押してください NaN  A7K3B  1234532531  \n",
       "\n",
       "[100 rows x 9 columns]"
      ]
     },
     "execution_count": 367,
     "metadata": {},
     "output_type": "execute_result"
    }
   ],
   "source": [
    "dir_path = \"C:/Users/横山 瑞季/Downloads/0724Experiment\"\n",
    "\n",
    "task_list_df = pd.read_csv(f\"{dir_path}/3589453305.tsv\", sep='\\t', header=None, encoding='utf8')\n",
    "task_list_df"
   ]
  },
  {
   "cell_type": "code",
   "execution_count": 368,
   "id": "c2409122",
   "metadata": {},
   "outputs": [
    {
     "name": "stdout",
     "output_type": "stream",
     "text": [
      "participant.label     int32\n",
      "yahoo_id              int64\n",
      "key_word             object\n",
      "completion_status    object\n",
      "dtype: object\n"
     ]
    }
   ],
   "source": [
    "keywords = {\n",
    "    \"A7K3B\": \"Success\",\n",
    "    \"X7R5T\": \"Ungrouped\",\n",
    "}\n",
    "\n",
    "task_list_concat_df = pd.DataFrame()\n",
    "task_list_concat_df['participant.label'] = task_list_df[4].str[-7:]\n",
    "task_list_concat_df['participant.label'] = task_list_concat_df['participant.label'].str.extract(r'^l=(\\d+)$').astype('int')\n",
    "task_list_concat_df['yahoo_id'] = task_list_df[8]\n",
    "task_list_concat_df['key_word'] = task_list_df[7]\n",
    "task_list_concat_df['completion_status'] = task_list_concat_df['key_word'].map(keywords).fillna('Failed')\n",
    "# task_list_concat_df['completion_status'] = task_list_concat_df['key_word']\n",
    "\n",
    "print(task_list_concat_df.dtypes)\n",
    "task_list_concat_df\n",
    "\n",
    "success_keyword_participant_df = task_list_concat_df[task_list_concat_df['key_word'].map(keywords).notna()]\n",
    "# success_keyword_participant_df = task_list_concat_df"
   ]
  },
  {
   "cell_type": "code",
   "execution_count": 369,
   "id": "53ef6e27",
   "metadata": {},
   "outputs": [
    {
     "name": "stdout",
     "output_type": "stream",
     "text": [
      "participant.label     int32\n",
      "participant.payoff    int32\n",
      "PayPay_exchanged      int32\n",
      "PayPay_ceiled         int32\n",
      "dtype: object\n"
     ]
    },
    {
     "data": {
      "text/html": [
       "<div>\n",
       "<style scoped>\n",
       "    .dataframe tbody tr th:only-of-type {\n",
       "        vertical-align: middle;\n",
       "    }\n",
       "\n",
       "    .dataframe tbody tr th {\n",
       "        vertical-align: top;\n",
       "    }\n",
       "\n",
       "    .dataframe thead th {\n",
       "        text-align: right;\n",
       "    }\n",
       "</style>\n",
       "<table border=\"1\" class=\"dataframe\">\n",
       "  <thead>\n",
       "    <tr style=\"text-align: right;\">\n",
       "      <th></th>\n",
       "      <th>participant.label</th>\n",
       "      <th>participant.payoff</th>\n",
       "      <th>PayPay_exchanged</th>\n",
       "      <th>PayPay_ceiled</th>\n",
       "    </tr>\n",
       "  </thead>\n",
       "  <tbody>\n",
       "    <tr>\n",
       "      <th>0</th>\n",
       "      <td>10022</td>\n",
       "      <td>10</td>\n",
       "      <td>140</td>\n",
       "      <td>140</td>\n",
       "    </tr>\n",
       "    <tr>\n",
       "      <th>1</th>\n",
       "      <td>10024</td>\n",
       "      <td>26</td>\n",
       "      <td>204</td>\n",
       "      <td>210</td>\n",
       "    </tr>\n",
       "    <tr>\n",
       "      <th>2</th>\n",
       "      <td>10054</td>\n",
       "      <td>22</td>\n",
       "      <td>188</td>\n",
       "      <td>190</td>\n",
       "    </tr>\n",
       "    <tr>\n",
       "      <th>3</th>\n",
       "      <td>10035</td>\n",
       "      <td>10</td>\n",
       "      <td>140</td>\n",
       "      <td>140</td>\n",
       "    </tr>\n",
       "    <tr>\n",
       "      <th>4</th>\n",
       "      <td>10085</td>\n",
       "      <td>12</td>\n",
       "      <td>148</td>\n",
       "      <td>150</td>\n",
       "    </tr>\n",
       "    <tr>\n",
       "      <th>...</th>\n",
       "      <td>...</td>\n",
       "      <td>...</td>\n",
       "      <td>...</td>\n",
       "      <td>...</td>\n",
       "    </tr>\n",
       "    <tr>\n",
       "      <th>95</th>\n",
       "      <td>10009</td>\n",
       "      <td>10</td>\n",
       "      <td>140</td>\n",
       "      <td>140</td>\n",
       "    </tr>\n",
       "    <tr>\n",
       "      <th>96</th>\n",
       "      <td>10003</td>\n",
       "      <td>10</td>\n",
       "      <td>140</td>\n",
       "      <td>140</td>\n",
       "    </tr>\n",
       "    <tr>\n",
       "      <th>97</th>\n",
       "      <td>10086</td>\n",
       "      <td>10</td>\n",
       "      <td>140</td>\n",
       "      <td>140</td>\n",
       "    </tr>\n",
       "    <tr>\n",
       "      <th>98</th>\n",
       "      <td>10098</td>\n",
       "      <td>3</td>\n",
       "      <td>112</td>\n",
       "      <td>120</td>\n",
       "    </tr>\n",
       "    <tr>\n",
       "      <th>99</th>\n",
       "      <td>10088</td>\n",
       "      <td>3</td>\n",
       "      <td>112</td>\n",
       "      <td>120</td>\n",
       "    </tr>\n",
       "  </tbody>\n",
       "</table>\n",
       "<p>100 rows × 4 columns</p>\n",
       "</div>"
      ],
      "text/plain": [
       "    participant.label  participant.payoff  PayPay_exchanged  PayPay_ceiled\n",
       "0               10022                  10               140            140\n",
       "1               10024                  26               204            210\n",
       "2               10054                  22               188            190\n",
       "3               10035                  10               140            140\n",
       "4               10085                  12               148            150\n",
       "..                ...                 ...               ...            ...\n",
       "95              10009                  10               140            140\n",
       "96              10003                  10               140            140\n",
       "97              10086                  10               140            140\n",
       "98              10098                   3               112            120\n",
       "99              10088                   3               112            120\n",
       "\n",
       "[100 rows x 4 columns]"
      ]
     },
     "metadata": {},
     "output_type": "display_data"
    }
   ],
   "source": [
    "pg_df = pd.read_csv(f\"{dir_path}/all_apps_wide-2025-07-24.csv\")\n",
    "pg_concat_df = pd.DataFrame()\n",
    "pg_concat_df['participant.label'] = pg_df['participant.label']\n",
    "pg_concat_df['participant.payoff'] = pg_df.iloc[:,12]\n",
    "pg_concat_df['PayPay_exchanged'] = pg_concat_df['participant.payoff'].apply(lambda x: x * 4 + 100)\n",
    "pg_concat_df['PayPay_ceiled'] = pg_concat_df[\"PayPay_exchanged\"].apply(lambda x: ((x+9) // 10)*10) # ホワイトリストのために1の位切り上げたリスト\n",
    "pg_concat_df = pg_concat_df.dropna()\n",
    "pg_concat_df = pg_concat_df.astype('int')\n",
    "print(pg_concat_df.dtypes)\n",
    "display(pg_concat_df)\n",
    "# pg_concat_df.to_csv(\"payoff_and_partictipantLabel.csv\")"
   ]
  },
  {
   "cell_type": "markdown",
   "id": "14295574",
   "metadata": {},
   "source": [
    "統合する"
   ]
  },
  {
   "cell_type": "code",
   "execution_count": 370,
   "id": "98107309",
   "metadata": {},
   "outputs": [
    {
     "data": {
      "text/html": [
       "<div>\n",
       "<style scoped>\n",
       "    .dataframe tbody tr th:only-of-type {\n",
       "        vertical-align: middle;\n",
       "    }\n",
       "\n",
       "    .dataframe tbody tr th {\n",
       "        vertical-align: top;\n",
       "    }\n",
       "\n",
       "    .dataframe thead th {\n",
       "        text-align: right;\n",
       "    }\n",
       "</style>\n",
       "<table border=\"1\" class=\"dataframe\">\n",
       "  <thead>\n",
       "    <tr style=\"text-align: right;\">\n",
       "      <th></th>\n",
       "      <th>participant.label</th>\n",
       "      <th>yahoo_id</th>\n",
       "      <th>key_word</th>\n",
       "      <th>completion_status</th>\n",
       "      <th>participant.payoff</th>\n",
       "      <th>PayPay_exchanged</th>\n",
       "      <th>PayPay_ceiled</th>\n",
       "    </tr>\n",
       "  </thead>\n",
       "  <tbody>\n",
       "    <tr>\n",
       "      <th>0</th>\n",
       "      <td>10001</td>\n",
       "      <td>1234268403</td>\n",
       "      <td>A7K3B</td>\n",
       "      <td>Success</td>\n",
       "      <td>4</td>\n",
       "      <td>116</td>\n",
       "      <td>120</td>\n",
       "    </tr>\n",
       "    <tr>\n",
       "      <th>1</th>\n",
       "      <td>10002</td>\n",
       "      <td>1235779098</td>\n",
       "      <td>A7K3B</td>\n",
       "      <td>Success</td>\n",
       "      <td>28</td>\n",
       "      <td>212</td>\n",
       "      <td>220</td>\n",
       "    </tr>\n",
       "    <tr>\n",
       "      <th>2</th>\n",
       "      <td>10003</td>\n",
       "      <td>1232483825</td>\n",
       "      <td>A7K3B</td>\n",
       "      <td>Success</td>\n",
       "      <td>10</td>\n",
       "      <td>140</td>\n",
       "      <td>140</td>\n",
       "    </tr>\n",
       "    <tr>\n",
       "      <th>3</th>\n",
       "      <td>10004</td>\n",
       "      <td>1234979671</td>\n",
       "      <td>A7K3B</td>\n",
       "      <td>Success</td>\n",
       "      <td>3</td>\n",
       "      <td>112</td>\n",
       "      <td>120</td>\n",
       "    </tr>\n",
       "    <tr>\n",
       "      <th>4</th>\n",
       "      <td>10005</td>\n",
       "      <td>1225026867</td>\n",
       "      <td>A7K3B</td>\n",
       "      <td>Success</td>\n",
       "      <td>20</td>\n",
       "      <td>180</td>\n",
       "      <td>180</td>\n",
       "    </tr>\n",
       "    <tr>\n",
       "      <th>...</th>\n",
       "      <td>...</td>\n",
       "      <td>...</td>\n",
       "      <td>...</td>\n",
       "      <td>...</td>\n",
       "      <td>...</td>\n",
       "      <td>...</td>\n",
       "      <td>...</td>\n",
       "    </tr>\n",
       "    <tr>\n",
       "      <th>92</th>\n",
       "      <td>10096</td>\n",
       "      <td>1238318185</td>\n",
       "      <td>A7K3B</td>\n",
       "      <td>Success</td>\n",
       "      <td>12</td>\n",
       "      <td>148</td>\n",
       "      <td>150</td>\n",
       "    </tr>\n",
       "    <tr>\n",
       "      <th>93</th>\n",
       "      <td>10097</td>\n",
       "      <td>1233436464</td>\n",
       "      <td>A7K3B</td>\n",
       "      <td>Success</td>\n",
       "      <td>2</td>\n",
       "      <td>111</td>\n",
       "      <td>120</td>\n",
       "    </tr>\n",
       "    <tr>\n",
       "      <th>94</th>\n",
       "      <td>10098</td>\n",
       "      <td>1235935810</td>\n",
       "      <td>A7K3B</td>\n",
       "      <td>Success</td>\n",
       "      <td>3</td>\n",
       "      <td>112</td>\n",
       "      <td>120</td>\n",
       "    </tr>\n",
       "    <tr>\n",
       "      <th>95</th>\n",
       "      <td>10099</td>\n",
       "      <td>1237551928</td>\n",
       "      <td>A7K3B</td>\n",
       "      <td>Success</td>\n",
       "      <td>10</td>\n",
       "      <td>140</td>\n",
       "      <td>140</td>\n",
       "    </tr>\n",
       "    <tr>\n",
       "      <th>96</th>\n",
       "      <td>10100</td>\n",
       "      <td>1234532531</td>\n",
       "      <td>A7K3B</td>\n",
       "      <td>Success</td>\n",
       "      <td>10</td>\n",
       "      <td>140</td>\n",
       "      <td>140</td>\n",
       "    </tr>\n",
       "  </tbody>\n",
       "</table>\n",
       "<p>97 rows × 7 columns</p>\n",
       "</div>"
      ],
      "text/plain": [
       "    participant.label    yahoo_id key_word completion_status  \\\n",
       "0               10001  1234268403    A7K3B           Success   \n",
       "1               10002  1235779098    A7K3B           Success   \n",
       "2               10003  1232483825    A7K3B           Success   \n",
       "3               10004  1234979671    A7K3B           Success   \n",
       "4               10005  1225026867    A7K3B           Success   \n",
       "..                ...         ...      ...               ...   \n",
       "92              10096  1238318185    A7K3B           Success   \n",
       "93              10097  1233436464    A7K3B           Success   \n",
       "94              10098  1235935810    A7K3B           Success   \n",
       "95              10099  1237551928    A7K3B           Success   \n",
       "96              10100  1234532531    A7K3B           Success   \n",
       "\n",
       "    participant.payoff  PayPay_exchanged  PayPay_ceiled  \n",
       "0                    4               116            120  \n",
       "1                   28               212            220  \n",
       "2                   10               140            140  \n",
       "3                    3               112            120  \n",
       "4                   20               180            180  \n",
       "..                 ...               ...            ...  \n",
       "92                  12               148            150  \n",
       "93                   2               111            120  \n",
       "94                   3               112            120  \n",
       "95                  10               140            140  \n",
       "96                  10               140            140  \n",
       "\n",
       "[97 rows x 7 columns]"
      ]
     },
     "metadata": {},
     "output_type": "display_data"
    }
   ],
   "source": [
    "marged_df = pd.merge(\n",
    "    success_keyword_participant_df,\n",
    "    pg_concat_df,\n",
    "    on='participant.label',\n",
    "    how='left'\n",
    ")\n",
    "\n",
    "display(marged_df)\n",
    "marged_df.to_csv(\"yahooid-payoff.csv\")"
   ]
  },
  {
   "cell_type": "markdown",
   "id": "605f0c9c",
   "metadata": {},
   "source": [
    "ホワイトリストの作成（下一桁切り上げたもので分類）"
   ]
  },
  {
   "cell_type": "code",
   "execution_count": 371,
   "id": "6144eb27",
   "metadata": {},
   "outputs": [
    {
     "name": "stdout",
     "output_type": "stream",
     "text": [
      "[100, 110, 120, 140, 150, 160, 170, 180, 190, 200, 210, 220, 230, 250, 300]\n"
     ]
    }
   ],
   "source": [
    "import os\n",
    "import csv\n",
    "paypay_whitelist_df = marged_df[[\"yahoo_id\", \"PayPay_exchanged\", \"PayPay_ceiled\"]]\n",
    "whitelist_dict = {}\n",
    "for idx, row in paypay_whitelist_df.iterrows():\n",
    "    whitelist_dict[row[\"PayPay_ceiled\"]] = []\n",
    "for idx, row in paypay_whitelist_df.iterrows():\n",
    "    whitelist_dict[row[\"PayPay_ceiled\"]] += [row[\"yahoo_id\"]]\n",
    "\n",
    "os.makedirs(f\"{dir_path}/whitelists\", exist_ok=True)\n",
    "for k in whitelist_dict.keys():\n",
    "    yahooid_list = whitelist_dict[k]\n",
    "    with open(f\"{dir_path}/whitelists/20250724_{k}.txt\", 'w') as f:\n",
    "        writer = csv.writer(f)\n",
    "        writer.writerow(yahooid_list)\n",
    "\n",
    "print(sorted(whitelist_dict.keys()))"
   ]
  },
  {
   "cell_type": "markdown",
   "id": "131392a8",
   "metadata": {},
   "source": [
    "PayPayポイントのヒストグラム"
   ]
  },
  {
   "cell_type": "code",
   "execution_count": 372,
   "id": "400720ac",
   "metadata": {},
   "outputs": [
    {
     "data": {
      "image/png": "[encoded data removed]",
      "text/plain": [
       "<Figure size 640x480 with 1 Axes>"
      ]
     },
     "metadata": {},
     "output_type": "display_data"
    }
   ],
   "source": [
    "paypay_payoff = marged_df[\"PayPay_exchanged\"].tolist()\n",
    "paypay_task_num = set(paypay_payoff)\n",
    "len(paypay_task_num)\n",
    "import matplotlib.pyplot as plt\n",
    "plt.hist(paypay_payoff, bins=100)\n",
    "plt.show()"
   ]
  },
  {
   "cell_type": "markdown",
   "id": "aa523eb7",
   "metadata": {},
   "source": [
    "## 7/24実験結果について"
   ]
  },
  {
   "cell_type": "markdown",
   "id": "cd8ff449",
   "metadata": {},
   "source": [
    "グループわりを見つけ出す"
   ]
  },
  {
   "cell_type": "code",
   "execution_count": 373,
   "id": "4a5a26f1",
   "metadata": {},
   "outputs": [
    {
     "name": "stdout",
     "output_type": "stream",
     "text": [
      "{1, 2, 3, 4, 5, 6, 7, 8, 9, 10, 11, 12, 13, 14, 15, 16, 17, 18, 19, 20, 21, 22, 23, 24, 25, 26, 27}\n",
      "{2: [10022, 10035, 10058, 10060], 3: [10025, 10041, 10052, 10007], 4: [10026, 10059, 10095, 10023], 5: [10054, 10050, 10015, 10057], 6: [10001, 10082, 10049, 10056], 7: [10074, 10076, 10097, 10065], 8: [10068, 10070, 10045, 10078], 9: [10091, 10036, 10039, 10002], 10: [10005, 10027, 10089, 10020], 11: [10004, 10047, 10048, 10010], 12: [10062, 10014, 10084, 10092], 13: [10024, 10013, 10019, 10018], 14: [10033, 10094, 10061, 10081], 15: [10100, 10037, 10038, 10003], 16: [10012, 10077, 10032, 10028], 17: [10030, 10042, 10069, 10098], 18: [10031, 10016, 10053, 10021], 19: [10087, 10075, 10080, 10009], 20: [10034, 10066, 10046, 10099], 21: [10006, 10044, 10096, 10011], 22: [10085, 10073, 10083, 10086], 23: [10017, 10040, 10093, 10008], 24: [10051, 10029, 10072, 10063], 25: [10071, 10055, 10079, 10088]}\n",
      "{1: [10064, 10090], 26: [10067], 27: [10043]}\n"
     ]
    }
   ],
   "source": [
    "# グループの割り振り\n",
    "group_set = set(pg_df['crd_cost_information.1.group.id_in_subsession'])\n",
    "print(group_set)\n",
    "\n",
    "participant_group = {}\n",
    "participant_unfullgrouped = {}\n",
    "for gl in group_set:\n",
    "    tmp_df = pg_df[pg_df['crd_cost_information.1.group.id_in_subsession'] == gl]\n",
    "    grouped_label = list(tmp_df['participant.label'])\n",
    "    if len(grouped_label) != 4:\n",
    "        participant_unfullgrouped[gl] = grouped_label\n",
    "    else:\n",
    "        participant_group[gl] = grouped_label\n",
    "\n",
    "# グループが割り振られ、4人が集まったグループとその参加者ラベル\n",
    "print(participant_group)\n",
    "\n",
    "# グループが割り振られたが、何らかの理由で4人集まらなかったグループとその参加者ラベル\n",
    "print(participant_unfullgrouped)\n"
   ]
  },
  {
   "cell_type": "code",
   "execution_count": 374,
   "id": "1a729626",
   "metadata": {},
   "outputs": [
    {
     "name": "stdout",
     "output_type": "stream",
     "text": [
      "[36    あなたは確認問題に5回連続で失敗したので、実験は終了となります。\n",
      "Name: participant.reason_finished, dtype: object, 57    あなたから制限時間以内に同意を得られなかったため、実験は終了となります。\n",
      "Name: participant.reason_finished, dtype: object, 35    申し訳ありませんが、あなたとペアになる人が見つからず、グループを作成できませんでした。あなた...\n",
      "Name: participant.reason_finished, dtype: object, 93    申し訳ありませんが、あなたとペアになる人が見つからず、グループを作成できませんでした。あなた...\n",
      "Name: participant.reason_finished, dtype: object]\n"
     ]
    }
   ],
   "source": [
    "# 4人グループが作れなかった人たちの原因\n",
    "unfullgrouped_label = []\n",
    "for v in participant_unfullgrouped.values():\n",
    "    unfullgrouped_label += v\n",
    "\n",
    "ungrouped_label_reason = [pg_df[pg_df['participant.label'] == ul]['participant.reason_finished']  for ul in unfullgrouped_label]\n",
    "print(ungrouped_label_reason)"
   ]
  },
  {
   "cell_type": "markdown",
   "id": "3e0fed2e",
   "metadata": {},
   "source": [
    "確認テストまで成功した人（successもしくはungrouped）"
   ]
  },
  {
   "cell_type": "code",
   "execution_count": 375,
   "id": "5b3c0996",
   "metadata": {},
   "outputs": [
    {
     "name": "stdout",
     "output_type": "stream",
     "text": [
      "[10022, 10024, 10054, 10035, 10085, 10062, 10091, 10004, 10031, 10100, 10087, 10005, 10071, 10026, 10037, 10025, 10033, 10013, 10012, 10041, 10047, 10036, 10059, 10068, 10016, 10027, 10014, 10019, 10095, 10038, 10070, 10074, 10094, 10076, 10001, 10023, 10034, 10077, 10006, 10045, 10030, 10075, 10058, 10082, 10060, 10042, 10097, 10066, 10048, 10089, 10073, 10084, 10017, 10052, 10050, 10015, 10007, 10061, 10049, 10053, 10078, 10051, 10032, 10055, 10044, 10029, 10056, 10065, 10020, 10040, 10093, 10008, 10021, 10039, 10081, 10072, 10092, 10018, 10002, 10046, 10083, 10028, 10069, 10080, 10096, 10079, 10010, 10011, 10063, 10099, 10009, 10003, 10086, 10098, 10088]\n",
      "[10067, 10043]\n"
     ]
    }
   ],
   "source": [
    "success_label = pg_df[pg_df['participant.completion_status'] == 'success']['participant.label'].tolist()\n",
    "ungrouped_label = pg_df[pg_df['participant.completion_status'] == 'ungrouped']['participant.label'].tolist()\n",
    "label = pg_df['participant.label'].tolist()\n",
    "\n",
    "print(success_label)\n",
    "print(ungrouped_label)"
   ]
  },
  {
   "cell_type": "markdown",
   "id": "1d4795d3",
   "metadata": {},
   "source": [
    "寄付した額について"
   ]
  },
  {
   "cell_type": "code",
   "execution_count": 376,
   "id": "34bec12f",
   "metadata": {},
   "outputs": [
    {
     "name": "stdout",
     "output_type": "stream",
     "text": [
      "{10022: [4, 4, 4, 4, 4, 4, 4, 4, 4, 4], 10024: [2, 4, 0, 2, 4, 0, 2, 4, 2, 4], 10054: [2, 4, 2, 4, 2, 2, 4, 2, 2, 4], 10035: [4, 4, 4, 4, 4, 4, 4, 4, 4, 4], 10085: [4, 2, 4, 4, 4, 4, 4, 4, 4, 4], 10062: [2, 4, 2, 2, 2, 2, 2, 2, 2, 2], 10091: [2, 2, 2, 2, 2, 4, 2, 2, 2, 2], 10004: [4, 2, 2, 2, 2, 2, 2, 0, 2, 0], 10031: [2, 4, 4, 2, 2, 4, 2, 2, 4, 4], 10100: [4, 4, 4, 4, 4, 4, 4, 4, 4, 4], 10087: [4, 4, 4, 4, 4, 4, 4, 4, 4, 4], 10005: [4, 2, 4, 4, 4, 4, 2, 2, 2, 2], 10071: [4, 2, 2, 2, 2, 2, 4, 2, 2, 2], 10026: [4, 2, 4, 4, 4, 2, 2, 2, 0, 2], 10037: [4, 4, 4, 4, 4, 4, 4, 4, 4, 4], 10025: [4, 2, 2, 2, 2, 2, 2, 2, 2, 2], 10033: [4, 4, 4, 4, 4, 4, 4, 4, 4, 4], 10013: [0, 2, 4, 2, 2, 4, 4, 2, 2, 2], 10012: [4, 4, 4, 4, 4, 4, 4, 4, 4, 4], 10041: [2, 4, 2, 2, 2, 2, 2, 2, 2, 2], 10047: [0, 0, 4, 0, 0, 0, 0, 4, 2, 0], 10036: [4, 4, 4, 4, 2, 2, 4, 4, 4, 4], 10059: [4, 4, 2, 4, 4, 4, 4, 2, 2, 2], 10068: [4, 4, 4, 4, 4, 4, 4, 4, 4, 4], 10016: [4, 4, 4, 4, 4, 4, 4, 4, 0, 0], 10027: [2, 0, 0, 2, 4, 4, 0, 4, 4, 0], 10014: [2, 2, 4, 2, 2, 2, 2, 2, 0, 2], 10019: [0, 0, 0, 0, 0, 0, 0, 0, 0, 0], 10095: [4, 4, 4, 4, 2, 2, 2, 2, 2, 0], 10038: [0, 4, 4, 4, 4, 4, 4, 4, 4, 4], 10070: [4, 4, 4, 4, 4, 4, 4, 4, 4, 4], 10074: [2, 2, 2, 2, 2, 2, 2, 2, 2, 0], 10094: [2, 4, 4, 4, 4, 2, 4, 4, 2, 2], 10076: [4, 4, 2, 0, 4, 4, 0, 2, 2, 2], 10001: [0, 2, 0, 0, 0, 0, 2, 0, 2, 4], 10023: [2, 2, 4, 2, 4, 4, 4, 2, 2, 0], 10034: [2, 4, 4, 4, 4, 4, 4, 4, 4, 0], 10077: [4, 4, 4, 4, 4, 4, 4, 4, 4, 4], 10006: [2, 2, 2, 2, 2, 4, 2, 4, 2, 0], 10045: [4, 4, 4, 4, 4, 4, 4, 4, 4, 2], 10030: [2, 2, 2, 2, 2, 2, 2, 4, 4, 4], 10075: [2, 4, 4, 2, 4, 2, 4, 4, 2, 4], 10058: [0, 0, 0, 0, 0, 0, 0, 0, 0, 0], 10082: [4, 4, 4, 4, 4, 4, 4, 4, 4, 4], 10060: [4, 4, 4, 4, 4, 4, 4, 4, 4, 4], 10042: [2, 2, 2, 0, 2, 2, 4, 4, 4, 4], 10097: [2, 2, 4, 2, 2, 2, 2, 2, 2, 2], 10066: [4, 4, 4, 4, 4, 4, 4, 4, 4, 4], 10048: [2, 2, 2, 2, 0, 2, 0, 0, 0, 0], 10089: [4, 4, 4, 4, 2, 2, 4, 4, 0, 0], 10073: [4, 4, 4, 4, 4, 2, 2, 2, 2, 0], 10084: [4, 4, 4, 4, 4, 4, 4, 4, 4, 4], 10017: [2, 4, 4, 4, 4, 4, 4, 4, 4, 4], 10052: [0, 2, 2, 2, 2, 2, 2, 2, 2, 2], 10050: [0, 0, 0, 0, 0, 4, 4, 4, 4, 4], 10015: [4, 4, 4, 4, 4, 4, 4, 4, 4, 4], 10007: [2, 2, 2, 2, 2, 2, 2, 2, 2, 2], 10061: [4, 4, 4, 4, 4, 4, 4, 4, 4, 4], 10049: [4, 4, 4, 4, 4, 4, 4, 4, 4, 4], 10053: [2, 2, 2, 2, 2, 2, 2, 2, 2, 2], 10078: [4, 4, 4, 4, 4, 4, 4, 4, 4, 4], 10051: [2, 0, 2, 4, 4, 2, 4, 2, 2, 4], 10032: [0, 0, 0, 0, 0, 0, 0, 0, 0, 0], 10055: [2, 2, 4, 4, 2, 2, 0, 2, 2, 0], 10044: [4, 2, 4, 4, 4, 4, 4, 2, 4, 2], 10029: [2, 2, 2, 4, 2, 2, 2, 4, 2, 2], 10056: [2, 4, 4, 2, 4, 4, 4, 2, 4, 4], 10065: [4, 2, 2, 4, 2, 2, 4, 2, 2, 2], 10020: [2, 4, 4, 4, 4, 4, 4, 4, 4, 4], 10040: [4, 4, 4, 4, 4, 4, 4, 4, 4, 4], 10093: [2, 2, 2, 2, 2, 2, 2, 2, 2, 0], 10008: [4, 4, 4, 4, 4, 4, 4, 4, 4, 4], 10021: [4, 4, 4, 4, 4, 4, 2, 0, 0, 0], 10039: [2, 2, 2, 2, 2, 2, 2, 2, 2, 4], 10081: [2, 4, 4, 4, 4, 4, 4, 4, 4, 2], 10072: [4, 2, 2, 2, 2, 2, 2, 2, 2, 2], 10092: [4, 4, 2, 4, 4, 4, 4, 4, 4, 2], 10018: [4, 2, 0, 0, 4, 0, 0, 0, 0, 4], 10002: [4, 2, 2, 2, 2, 2, 2, 2, 2, 2], 10046: [4, 4, 4, 4, 4, 4, 4, 4, 2, 0], 10083: [4, 4, 4, 4, 4, 4, 4, 2, 2, 2], 10028: [0, 0, 0, 0, 0, 0, 0, 0, 0, 0], 10069: [4, 2, 2, 2, 2, 4, 2, 2, 4, 4], 10080: [4, 2, 4, 4, 4, 4, 2, 4, 4, 4], 10096: [4, 4, 4, 4, 4, 4, 4, 4, 4, 2], 10079: [0, 0, 0, 0, 0, 0, 0, 0, 0, 0], 10010: [2, 2, 0, 0, 0, 0, 0, 0, 0, 0], 10011: [2, 4, 4, 4, 4, 4, 4, 4, 2, 0], 10063: [0, 2, 2, 2, 4, 2, 2, 2, 0, 0], 10099: [4, 4, 4, 4, 4, 4, 4, 4, 4, 4], 10009: [4, 4, 4, 4, 4, 4, 4, 4, 4, 4], 10003: [4, 4, 4, 4, 4, 4, 4, 4, 4, 4], 10086: [4, 4, 4, 4, 4, 4, 4, 4, 4, 4], 10098: [0, 0, 0, 0, 0, 4, 4, 4, 4, 4], 10088: [2, 2, 2, 2, 2, 2, 2, 2, 2, 0]}\n"
     ]
    }
   ],
   "source": [
    "# 寄付した額のカラムリスト\n",
    "contribute_columns = [f'crd_cost_information.{i}.player.contribution' for i in range(1, 11)]\n",
    "\n",
    "success_contribution = {}\n",
    "for sl in success_label:\n",
    "    row = pg_df[pg_df['participant.label'] == sl][contribute_columns]\n",
    "    success_contribution[sl] = row.iloc[0].tolist()\n",
    "print(success_contribution)"
   ]
  },
  {
   "cell_type": "markdown",
   "id": "2b82a821",
   "metadata": {},
   "source": [
    "各グループと寄付額について"
   ]
  },
  {
   "cell_type": "code",
   "execution_count": 377,
   "id": "ddcddda5",
   "metadata": {},
   "outputs": [
    {
     "name": "stdout",
     "output_type": "stream",
     "text": [
      "10057のキーが存在しません。（success_contributionに含まれていない->success_labelにいない->途中離脱？）\n"
     ]
    }
   ],
   "source": [
    "round_column = [f\"Round {i}\" for i in range(1, 11)]\n",
    "\n",
    "dfs = {}\n",
    "for g, labels in participant_group.items():\n",
    "    part_contrib = []\n",
    "    part_index = []\n",
    "    for l in labels:\n",
    "        try:\n",
    "            part_contrib.append(success_contribution[l])\n",
    "            part_index.append(l)\n",
    "        except KeyError as e:\n",
    "            print(f\"{l}のキーが存在しません。（success_contributionに含まれていない->success_labelにいない->途中離脱？）\")\n",
    "    # print(part_contrib)\n",
    "    df = pd.DataFrame(part_contrib, columns=round_column, index=part_index)\n",
    "    dfs[g] = df\n",
    "    # display(df)"
   ]
  },
  {
   "cell_type": "markdown",
   "id": "3fb97516",
   "metadata": {},
   "source": [
    "各グループの目標額を探し出す"
   ]
  },
  {
   "cell_type": "code",
   "execution_count": 378,
   "id": "e36d1c77",
   "metadata": {},
   "outputs": [
    {
     "name": "stdout",
     "output_type": "stream",
     "text": [
      "{2: 100, 3: 100, 4: 20, 5: 40, 6: 140, 7: 140, 8: 160, 9: 100, 10: 80, 11: 60, 12: 80, 13: 0, 14: 60, 15: 140, 16: 120, 17: 140, 18: 0, 19: 20, 20: 0, 21: 100, 22: 140, 23: 120, 24: 160, 25: 100}\n"
     ]
    }
   ],
   "source": [
    "# ちゃんと4人集まったグループに限定する\n",
    "group_target = {}\n",
    "for g in participant_group.keys():\n",
    "    group_target[g] = pg_df[pg_df['crd_cost_information.1.group.id_in_subsession'] == g]['crd_cost_information.1.group.target'].iloc[0]\n",
    "\n",
    "print(group_target)"
   ]
  },
  {
   "cell_type": "markdown",
   "id": "d0eac835",
   "metadata": {},
   "source": [
    "グラフ描画：累積貢献額（積み上げグラフ）"
   ]
  },
  {
   "cell_type": "code",
   "execution_count": 379,
   "id": "7bf69b42",
   "metadata": {},
   "outputs": [
    {
     "data": {
      "image/png": "[encoded data removed]",
      "text/plain": [
       "<Figure size 640x480 with 1 Axes>"
      ]
     },
     "metadata": {},
     "output_type": "display_data"
    }
   ],
   "source": [
    "import matplotlib.pyplot as plt\n",
    "import os\n",
    "\"\"\"\n",
    "縦軸は累計貢献額、横軸がラウンド数\n",
    "1.貢献額は積み立て式にする\n",
    "2.そのグループの目標額を示す\n",
    "\"\"\"\n",
    "def TotalContribution(groups: list):\n",
    "    os.makedirs(f\"{dir_path}/total_contribution\", exist_ok=True)\n",
    "    for g in groups:\n",
    "        df = dfs[g].cumsum(axis=1)\n",
    "        df = df.T\n",
    "        ax = df.plot(kind='bar', stacked=True)\n",
    "        plt.axhline(y=group_target[g], color='red', linestyle='--', label='Target')\n",
    "        plt.title(f\"Group {g}\")\n",
    "        plt.ylim(0, 160)\n",
    "        plt.ylabel(\"Total contribution (ECU)\")\n",
    "        plt.legend()\n",
    "        plt.tight_layout()\n",
    "        plt.savefig(f\"{dir_path}/total_contribution/Group_{g}.png\")\n",
    "        plt.show()\n",
    "        break\n",
    "\n",
    "TotalContribution(participant_group.keys())"
   ]
  },
  {
   "cell_type": "markdown",
   "id": "25b55fb7",
   "metadata": {},
   "source": [
    "グラフ描画：１ラウンドあたりの寄付額（折れ線グラフ）"
   ]
  },
  {
   "cell_type": "code",
   "execution_count": 380,
   "id": "947ca226",
   "metadata": {},
   "outputs": [
    {
     "data": {
      "image/png": "[encoded data removed]",
      "text/plain": [
       "<Figure size 640x480 with 1 Axes>"
      ]
     },
     "metadata": {},
     "output_type": "display_data"
    }
   ],
   "source": [
    "import os\n",
    "def ContributionPerRound(groups: list):\n",
    "    os.makedirs(f\"{dir_path}/contribution_per_round\", exist_ok=True)\n",
    "    for g in groups:\n",
    "        df = dfs[g]\n",
    "        df = df.T\n",
    "        ax = df.plot(kind='line', marker='o')\n",
    "        plt.title(f\"Group {g}\")\n",
    "        ax.set_yticks([0, 2, 4])\n",
    "        plt.ylabel(\"Contribution per round (ECU)\")\n",
    "        plt.legend()\n",
    "        plt.tight_layout()\n",
    "        plt.savefig(f\"{dir_path}/contribution_per_round/Group_{g}\")\n",
    "        plt.show()\n",
    "        break\n",
    "\n",
    "ContributionPerRound(participant_group.keys())"
   ]
  },
  {
   "cell_type": "markdown",
   "id": "290f93f3",
   "metadata": {},
   "source": [
    "目標達成したグループ、そうでないグループ"
   ]
  },
  {
   "cell_type": "code",
   "execution_count": 381,
   "id": "41f8655e",
   "metadata": {},
   "outputs": [
    {
     "name": "stdout",
     "output_type": "stream",
     "text": [
      "[2, 4, 5, 9, 10, 12, 13, 14, 15, 18, 19, 20, 21, 22, 23] [3, 6, 7, 8, 11, 16, 17, 24, 25]\n"
     ]
    }
   ],
   "source": [
    "target_success_group = []\n",
    "target_failed_group = []\n",
    "\n",
    "for g in participant_group.keys():\n",
    "    group_mem = pg_df[pg_df['crd_cost_information.1.group.id_in_subsession'] == g].iloc[0]\n",
    "    if group_mem['crd_cost_information.10.group.failed'] == 0:\n",
    "        target_success_group.append(g)\n",
    "    else:\n",
    "        target_failed_group.append(g)\n",
    "\n",
    "print(target_success_group, target_failed_group)"
   ]
  },
  {
   "cell_type": "code",
   "execution_count": 382,
   "id": "94cc4ea9",
   "metadata": {},
   "outputs": [
    {
     "data": {
      "image/png": "[encoded data removed]",
      "text/plain": [
       "<Figure size 640x480 with 1 Axes>"
      ]
     },
     "metadata": {},
     "output_type": "display_data"
    }
   ],
   "source": [
    "TotalContribution(target_success_group)"
   ]
  },
  {
   "cell_type": "markdown",
   "id": "10f6bf99",
   "metadata": {},
   "source": [
    "各グループの参加者の提案額"
   ]
  },
  {
   "cell_type": "code",
   "execution_count": 383,
   "id": "95688462",
   "metadata": {},
   "outputs": [
    {
     "name": "stdout",
     "output_type": "stream",
     "text": [
      "{10022: [2, 10.0, 100.0], 10035: [2, 100.0, 100.0], 10058: [2, 0.0, 0.0], 10060: [2, 160.0, 160.0], 10025: [3, 0.0, 20.0], 10041: [3, 10.0, 20.0], 10052: [3, 50.0, 10.0], 10007: [3, 5.0, 5.0], 10026: [4, 50.0, 160.0], 10059: [4, 140.0, 140.0], 10095: [4, 160.0, 120.0], 10023: [4, 100.0, 100.0], 10054: [5, 90.0, 90.0], 10050: [5, 160.0, 20.0], 10015: [5, 160.0, 160.0], 10057: [5, 20.0, 120.0], 10001: [6, 50.0, 20.0], 10082: [6, 160.0, 160.0], 10049: [6, 160.0, 160.0], 10056: [6, 30.0, 60.0], 10074: [7, 80.0, 80.0], 10076: [7, 100.0, 80.0], 10097: [7, 20.0, 40.0], 10065: [7, 30.0, 40.0], 10068: [8, 80.0, 100.0], 10070: [8, 160.0, 160.0], 10045: [8, 100.0, 120.0], 10078: [8, 100.0, 100.0], 10091: [9, 5.0, 10.0], 10036: [9, 6.0, 100.0], 10039: [9, 50.0, 2.0], 10002: [9, 160.0, 160.0], 10005: [10, 140.0, 120.0], 10027: [10, 50.0, 50.0], 10089: [10, 120.0, 120.0], 10020: [10, 25.0, 100.0], 10004: [11, 100.0, 80.0], 10047: [11, 10.0, 20.0], 10048: [11, 80.0, 80.0], 10010: [11, 100.0, 80.0], 10062: [12, 4.0, 80.0], 10014: [12, 80.0, 80.0], 10084: [12, 40.0, 60.0], 10092: [12, 70.0, 80.0], 10024: [13, 40.0, 80.0], 10013: [13, 40.0, 60.0], 10019: [13, 0.0, 0.0], 10018: [13, 0.0, 40.0], 10033: [14, 160.0, 100.0], 10094: [14, 20.0, 40.0], 10061: [14, 160.0, 160.0], 10081: [14, 20.0, 20.0], 10100: [15, 160.0, 140.0], 10037: [15, 100.0, 60.0], 10038: [15, 0.0, 160.0], 10003: [15, 160.0, 160.0], 10012: [16, 160.0, 160.0], 10077: [16, 160.0, 160.0], 10032: [16, 20.0, 20.0], 10028: [16, 100.0, 60.0], 10030: [17, 4.0, 100.0], 10042: [17, 160.0, 100.0], 10069: [17, 20.0, 80.0], 10098: [17, 80.0, 20.0], 10031: [18, 20.0, 60.0], 10016: [18, 160.0, 160.0], 10053: [18, 3.0, 80.0], 10021: [18, 40.0, 60.0], 10087: [19, 40.0, 50.0], 10075: [19, 100.0, 80.0], 10080: [19, 60.0, 40.0], 10009: [19, 80.0, 80.0], 10034: [20, 80.0, 80.0], 10066: [20, 4.0, 160.0], 10046: [20, 160.0, 160.0], 10099: [20, 7.0, 50.0], 10006: [21, 100.0, 120.0], 10044: [21, 100.0, 100.0], 10096: [21, 40.0, 100.0], 10011: [21, 160.0, 120.0], 10085: [22, 40.0, 80.0], 10073: [22, 50.0, 100.0], 10083: [22, 100.0, 160.0], 10086: [22, 160.0, 160.0], 10017: [23, 100.0, 120.0], 10040: [23, 160.0, 80.0], 10093: [23, 80.0, 80.0], 10008: [23, 80.0, 160.0], 10051: [24, 20.0, 40.0], 10029: [24, 100.0, 80.0], 10072: [24, 80.0, 100.0], 10063: [24, 120.0, 20.0], 10071: [25, 40.0, 60.0], 10055: [25, 80.0, 60.0], 10079: [25, 80.0, 80.0], 10088: [25, 100.0, 80.0]}\n"
     ]
    }
   ],
   "source": [
    "# dictに,labelをkeyとして、valueには[group, round1_pledge, round6_pledge]とする\n",
    "participant_pledges = {}\n",
    "for g in participant_group.keys():\n",
    "    # 1ラウンドと6ラウンドの提案額\n",
    "    pledges_df = pg_df[pg_df['crd_cost_information.1.group.id_in_subsession'] == g][['participant.label','crd_cost_information.1.player.pledge', 'crd_cost_information.6.player.pledge']]\n",
    "\n",
    "    for index, row in pledges_df.iterrows():\n",
    "        participant_pledges[int(row['participant.label'])] = [g, row['crd_cost_information.1.player.pledge'], row['crd_cost_information.6.player.pledge']]\n",
    "    \n",
    "print(participant_pledges)"
   ]
  },
  {
   "cell_type": "markdown",
   "id": "e8c97aea",
   "metadata": {},
   "source": [
    "グラフ描画：提案額も盛り込んだグラフ"
   ]
  },
  {
   "cell_type": "code",
   "execution_count": 384,
   "id": "d1465b31",
   "metadata": {},
   "outputs": [
    {
     "data": {
      "image/png": "[encoded data removed]",
      "text/plain": [
       "<Figure size 640x480 with 1 Axes>"
      ]
     },
     "metadata": {},
     "output_type": "display_data"
    }
   ],
   "source": [
    "colors = plt.rcParams['axes.prop_cycle'].by_key()['color']\n",
    "\n",
    "for g, labels in participant_group.items():\n",
    "    df = dfs[g].cumsum(axis=1)\n",
    "    df = df.T\n",
    "    ax = df.plot(kind='bar', stacked=True)\n",
    "    plt.axhline(y=group_target[g], color='red', linestyle='--', label='Target')\n",
    "    plt.legend()\n",
    "    # 各参加者の提案額を加える\n",
    "    for i, l in enumerate(labels):\n",
    "        r1_pledge = participant_pledges[l][1]\n",
    "        r6_pledge = participant_pledges[l][2]\n",
    "        plt.plot([0, 5], [r1_pledge, r1_pledge], color=colors[i], linestyle='--', label=f'{l}_predges')\n",
    "        plt.plot([5, 9], [r6_pledge, r6_pledge], color=colors[i], linestyle='--', label=f'{l}_predges')\n",
    "    plt.title(f\"Group {g}\")\n",
    "    plt.ylim(0, 160)\n",
    "    plt.ylabel(\"Total contribution (ECU)\")\n",
    "    # plt.legend()\n",
    "    plt.show()\n",
    "    break"
   ]
  },
  {
   "cell_type": "markdown",
   "id": "0aed0dad",
   "metadata": {},
   "source": [
    "ブラックリストの作成"
   ]
  },
  {
   "cell_type": "code",
   "execution_count": 390,
   "id": "493b9c55",
   "metadata": {},
   "outputs": [
    {
     "name": "stdout",
     "output_type": "stream",
     "text": [
      "[1234268403, 1235779098, 1232483825, 1234979671, 1225026867, 1236215554, 1231135398, 1236639019, 1235796006, 1233320619, 1236244087, 1231326128, 1232695336, 1226012587, 1234936627, 1233703347, 1236917343, 1238730992, 1238059725, 1232023342, 1230685489, 1225659254, 1226954468, 1225206830, 1231042368, 1233580936, 1232400350, 1237715604, 1226897401, 1234279629, 1239195574, 1232465514, 1224965217, 1234626572, 1225160503, 1235958199, 1236905658, 1229808196, 1232525631, 1235283592, 1237718446, 1227288712, 1232067415, 1238339034, 1232170440, 1233480358, 1231011051, 1233851163, 1231689154, 1229150254, 1227453145, 1234320378, 1233206850, 1230299791, 1231968175, 1235295376, 1236634282, 1229042491, 1231775271, 1226412045, 1231245796, 1230681487, 1232711695, 1234349033, 1234062932, 1235088193, 1235389680, 1233428845, 1234426211, 1236580513, 1238336630, 1235488222, 1232286019, 1231327446, 1237833663, 1231020179, 1238725410, 1229150412, 1236466224, 1236657678, 1235348272, 1229471408, 1234602695, 1231328023, 1235636633, 1232507977, 1234678315, 1237735179, 1235598697, 1229188234, 1233064686, 1234422947, 1233000642, 1234195341, 1230438660, 1238318185, 1233436464, 1235935810, 1237551928, 1234532531]\n"
     ]
    }
   ],
   "source": [
    "blacklist = task_list_df[8].tolist()\n",
    "print(blacklist)\n",
    "import csv\n",
    "with open(f\"{dir_path}/blacklist.csv\", \"w\") as f:\n",
    "    writer = csv.writer(f)\n",
    "    writer.writerow(blacklist)"
   ]
  },
  {
   "cell_type": "code",
   "execution_count": null,
   "id": "5120cfb0",
   "metadata": {},
   "outputs": [],
   "source": []
  }
 ],
 "metadata": {
  "kernelspec": {
   "display_name": "Python 3",
   "language": "python",
   "name": "python3"
  },
  "language_info": {
   "codemirror_mode": {
    "name": "ipython",
    "version": 3
   },
   "file_extension": ".py",
   "mimetype": "text/x-python",
   "name": "python",
   "nbconvert_exporter": "python",
   "pygments_lexer": "ipython3",
   "version": "3.12.6"
  }
 },
 "nbformat": 4,
 "nbformat_minor": 5
}
