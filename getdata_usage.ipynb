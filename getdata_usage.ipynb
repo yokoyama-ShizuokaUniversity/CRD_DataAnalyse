{
 "cells": [
  {
   "cell_type": "code",
   "execution_count": 2,
   "id": "d9750c4b",
   "metadata": {},
   "outputs": [],
   "source": [
    "from getdata import *"
   ]
  },
  {
   "cell_type": "markdown",
   "id": "453ee15e",
   "metadata": {},
   "source": [
    "インスタンスの作成（ファイル名を要確認）"
   ]
  },
  {
   "cell_type": "code",
   "execution_count": 3,
   "id": "d03f8d74",
   "metadata": {},
   "outputs": [],
   "source": [
    "# oTreeから得られた実験データ\n",
    "g_normal = GetData(\n",
    "    dirpath=\"./\",\n",
    "    filename=\"all_apps_wide-2025-07-24.csv\"\n",
    ")\n",
    "# グラフ描画用のインスタンス\n",
    "gp = GraphPlot(g_normal, savefig=True, debug=True)\n",
    "\n",
    "\n",
    "# yahooクラウドソーシングから得られたデータ\n",
    "ytask_normal = YahooTask(\"3589457371.tsv\", g_normal)"
   ]
  },
  {
   "cell_type": "markdown",
   "id": "69971268",
   "metadata": {},
   "source": [
    "簡単に実験結果を表示"
   ]
  },
  {
   "cell_type": "code",
   "execution_count": 4,
   "id": "53f5f546",
   "metadata": {},
   "outputs": [
    {
     "name": "stdout",
     "output_type": "stream",
     "text": [
      "4人ちゃんと集まったグループ数：24\n",
      "{2: [10022, 10035, 10058, 10060], 3: [10025, 10041, 10052, 10007], 4: [10026, 10059, 10095, 10023], 5: [10054, 10050, 10015, 10057], 6: [10001, 10082, 10049, 10056], 7: [10074, 10076, 10097, 10065], 8: [10068, 10070, 10045, 10078], 9: [10091, 10036, 10039, 10002], 10: [10005, 10027, 10089, 10020], 11: [10004, 10047, 10048, 10010], 12: [10062, 10014, 10084, 10092], 13: [10024, 10013, 10019, 10018], 14: [10033, 10094, 10061, 10081], 15: [10100, 10037, 10038, 10003], 16: [10012, 10077, 10032, 10028], 17: [10030, 10042, 10069, 10098], 18: [10031, 10016, 10053, 10021], 19: [10087, 10075, 10080, 10009], 20: [10034, 10066, 10046, 10099], 21: [10006, 10044, 10096, 10011], 22: [10085, 10073, 10083, 10086], 23: [10017, 10040, 10093, 10008], 24: [10051, 10029, 10072, 10063], 25: [10071, 10055, 10079, 10088]}\n",
      "\n",
      "4人集まらなかったグループ数：3\n",
      "{1: [10064, 10090], 26: [10067], 27: [10043]}\n",
      "\n",
      "正規に終了しなかった参加者数：4\n",
      "4人そろわなかったグループの参加者の失敗理由：\n",
      "10064: あなたは確認問題に5回連続で失敗したので、実験は終了となります。\n",
      "10090: あなたから制限時間以内に同意を得られなかったため、実験は終了となります。\n",
      "10067: 申し訳ありませんが、あなたとペアになる人が見つからず、グループを作成できませんでした。あなたは確認問題まで終了したので、成果報酬として 100 PayPayポイントを後日別タスクとしてお支払いします。\n",
      "10043: 申し訳ありませんが、あなたとペアになる人が見つからず、グループを作成できませんでした。あなたは確認問題まで終了したので、成果報酬として 100 PayPayポイントを後日別タスクとしてお支払いします。\n",
      "\n",
      "途中離脱(ドロップアウト)した人：\n",
      "10057: Round 8 で離脱\n"
     ]
    }
   ],
   "source": [
    "print(g_normal)"
   ]
  },
  {
   "cell_type": "markdown",
   "id": "86b066b5",
   "metadata": {},
   "source": [
    "結果のグラフを表示・作成・保存"
   ]
  },
  {
   "cell_type": "code",
   "execution_count": 5,
   "id": "dec1ded7",
   "metadata": {},
   "outputs": [
    {
     "name": "stdout",
     "output_type": "stream",
     "text": [
      "10057のキーが存在しません。（success_contributionに含まれていない->success_labelにいない->途中離脱？）\n",
      "10057のキーが存在しません。（success_contributionに含まれていない->success_labelにいない->途中離脱？）\n",
      "10057のキーが存在しません。（success_contributionに含まれていない->success_labelにいない->途中離脱？）\n"
     ]
    }
   ],
   "source": [
    "gp.plot_total_contribution()\n",
    "gp.plot_total_contribution(pledges=True)\n",
    "gp.plot_contribution_per_round()\n",
    "gp.plot_success_group_percentage()"
   ]
  },
  {
   "cell_type": "markdown",
   "id": "c19fa18c",
   "metadata": {},
   "source": [
    "ホワイトリストの作成、成果報酬のヒストグラムを表示"
   ]
  },
  {
   "cell_type": "code",
   "execution_count": 6,
   "id": "46d55a8f",
   "metadata": {},
   "outputs": [
    {
     "name": "stdout",
     "output_type": "stream",
     "text": [
      "120: 17\n",
      "220: 7\n",
      "140: 16\n",
      "180: 6\n",
      "110: 15\n",
      "210: 1\n",
      "150: 4\n",
      "300: 2\n",
      "200: 3\n",
      "170: 4\n",
      "160: 4\n",
      "100: 3\n",
      "190: 3\n",
      "230: 1\n",
      "[100, 110, 120, 140, 150, 160, 170, 180, 190, 200, 210, 220, 230, 300]\n"
     ]
    },
    {
     "data": {
      "image/png": "[encoded data removed]",
      "text/plain": [
       "<Figure size 640x480 with 1 Axes>"
      ]
     },
     "metadata": {},
     "output_type": "display_data"
    }
   ],
   "source": [
    "ytask_normal.create_whitelist()\n",
    "ytask_normal.show_point_histgram()"
   ]
  }
 ],
 "metadata": {
  "kernelspec": {
   "display_name": "Python 3",
   "language": "python",
   "name": "python3"
  },
  "language_info": {
   "codemirror_mode": {
    "name": "ipython",
    "version": 3
   },
   "file_extension": ".py",
   "mimetype": "text/x-python",
   "name": "python",
   "nbconvert_exporter": "python",
   "pygments_lexer": "ipython3",
   "version": "3.12.3"
  }
 },
 "nbformat": 4,
 "nbformat_minor": 5
}
